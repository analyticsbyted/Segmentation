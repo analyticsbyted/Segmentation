{
 "cells": [
  {
   "cell_type": "markdown",
   "metadata": {},
   "source": [
    "# Shopping Mall Customer Segmentation\n",
    "Unsupervised Machine Learning Project<br>\n",
    "[<font color='lightgreen'>Ted Dickey</font>](https://teddickey.com)"
   ]
  },
  {
   "cell_type": "markdown",
   "metadata": {},
   "source": [
    "- <font color= 'lightblue'>Problem Statement:</font> Understand the Target Customers for team to plan a marketing strategy accordingly.\n",
    "- <font color= 'lightblue'>Criteria:</font> You want to identify the most important shopping groups based on income, age, and shopping score.\n",
    "  \n",
    "- **<font color= 'lightblue'>Objective: Market Segmentation</font>**  -- Divide mall target market into appropriate groups based on demographics behavioral criteria to better understand the the target for marketing activities.\n",
    "\n",
    "- **The Approach**\n",
    "    - Perform some quick EDA\n",
    "    - Use KMEANS Clustering Algorithm to create segments\n",
    "    - Use Summary Statistics on the clusters\n",
    "    - Visualize\n",
    "    \n",
    "- _Data Source: https://www.kaggle.com/arjunbhasin2013/ccdata_"
   ]
  },
  {
   "cell_type": "code",
   "execution_count": 3,
   "metadata": {},
   "outputs": [],
   "source": [
    "import pandas as pd\n",
    "import numpy as np\n",
    "import matplotlib.pyplot as plt\n",
    "import seaborn as sns\n",
    "from sklearn.cluster import KMeans\n",
    "from sklearn.decomposition import PCA\n",
    "from sklearn.preprocessing import StandardScaler"
   ]
  },
  {
   "cell_type": "code",
   "execution_count": null,
   "metadata": {},
   "outputs": [],
   "source": []
  }
 ],
 "metadata": {
  "kernelspec": {
   "display_name": "venv",
   "language": "python",
   "name": "python3"
  },
  "language_info": {
   "codemirror_mode": {
    "name": "ipython",
    "version": 3
   },
   "file_extension": ".py",
   "mimetype": "text/x-python",
   "name": "python",
   "nbconvert_exporter": "python",
   "pygments_lexer": "ipython3",
   "version": "3.9.6"
  },
  "orig_nbformat": 4
 },
 "nbformat": 4,
 "nbformat_minor": 2
}
